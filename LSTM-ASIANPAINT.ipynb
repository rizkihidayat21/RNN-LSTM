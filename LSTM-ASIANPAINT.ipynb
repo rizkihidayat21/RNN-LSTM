{
 "cells": [
  {
   "cell_type": "markdown",
   "metadata": {},
   "source": [
    "# Import Library"
   ]
  },
  {
   "cell_type": "code",
   "execution_count": 1,
   "metadata": {},
   "outputs": [],
   "source": [
    "import numpy as np\n",
    "import matplotlib.pyplot as plt\n",
    "plt.style.use('fivethirtyeight')\n",
    "import pandas as pd\n",
    "from sklearn.preprocessing import MinMaxScaler\n",
    "from keras.models import Sequential\n",
    "from keras.layers import Dense, LSTM, Dropout, GRU, Bidirectional, SimpleRNN\n",
    "from tensorflow.keras.optimizers import SGD\n",
    "import tensorflow as tf\n",
    "import math\n",
    "import matplotlib as mpl\n",
    "from sklearn.metrics import mean_squared_error"
   ]
  },
  {
   "cell_type": "markdown",
   "metadata": {},
   "source": [
    "### Read Dataset"
   ]
  },
  {
   "cell_type": "code",
   "execution_count": 2,
   "metadata": {},
   "outputs": [
    {
     "data": {
      "text/html": [
       "<div>\n",
       "<style scoped>\n",
       "    .dataframe tbody tr th:only-of-type {\n",
       "        vertical-align: middle;\n",
       "    }\n",
       "\n",
       "    .dataframe tbody tr th {\n",
       "        vertical-align: top;\n",
       "    }\n",
       "\n",
       "    .dataframe thead th {\n",
       "        text-align: right;\n",
       "    }\n",
       "</style>\n",
       "<table border=\"1\" class=\"dataframe\">\n",
       "  <thead>\n",
       "    <tr style=\"text-align: right;\">\n",
       "      <th></th>\n",
       "      <th>Symbol</th>\n",
       "      <th>Series</th>\n",
       "      <th>Prev Close</th>\n",
       "      <th>Open</th>\n",
       "      <th>High</th>\n",
       "      <th>Low</th>\n",
       "      <th>Last</th>\n",
       "      <th>Close</th>\n",
       "      <th>VWAP</th>\n",
       "      <th>Volume</th>\n",
       "      <th>Turnover</th>\n",
       "      <th>Trades</th>\n",
       "      <th>Deliverable Volume</th>\n",
       "      <th>%Deliverble</th>\n",
       "    </tr>\n",
       "    <tr>\n",
       "      <th>Date</th>\n",
       "      <th></th>\n",
       "      <th></th>\n",
       "      <th></th>\n",
       "      <th></th>\n",
       "      <th></th>\n",
       "      <th></th>\n",
       "      <th></th>\n",
       "      <th></th>\n",
       "      <th></th>\n",
       "      <th></th>\n",
       "      <th></th>\n",
       "      <th></th>\n",
       "      <th></th>\n",
       "      <th></th>\n",
       "    </tr>\n",
       "  </thead>\n",
       "  <tbody>\n",
       "    <tr>\n",
       "      <th>2000-01-03</th>\n",
       "      <td>ASIANPAINT</td>\n",
       "      <td>EQ</td>\n",
       "      <td>361.20</td>\n",
       "      <td>370.0</td>\n",
       "      <td>390.0</td>\n",
       "      <td>370.0</td>\n",
       "      <td>385.0</td>\n",
       "      <td>381.65</td>\n",
       "      <td>380.54</td>\n",
       "      <td>3318</td>\n",
       "      <td>1.262617e+11</td>\n",
       "      <td>NaN</td>\n",
       "      <td>NaN</td>\n",
       "      <td>NaN</td>\n",
       "    </tr>\n",
       "    <tr>\n",
       "      <th>2000-01-04</th>\n",
       "      <td>ASIANPAINT</td>\n",
       "      <td>EQ</td>\n",
       "      <td>381.65</td>\n",
       "      <td>380.0</td>\n",
       "      <td>392.0</td>\n",
       "      <td>375.0</td>\n",
       "      <td>390.0</td>\n",
       "      <td>385.55</td>\n",
       "      <td>383.50</td>\n",
       "      <td>4818</td>\n",
       "      <td>1.847699e+11</td>\n",
       "      <td>NaN</td>\n",
       "      <td>NaN</td>\n",
       "      <td>NaN</td>\n",
       "    </tr>\n",
       "    <tr>\n",
       "      <th>2000-01-05</th>\n",
       "      <td>ASIANPAINT</td>\n",
       "      <td>EQ</td>\n",
       "      <td>385.55</td>\n",
       "      <td>371.5</td>\n",
       "      <td>390.0</td>\n",
       "      <td>371.5</td>\n",
       "      <td>383.0</td>\n",
       "      <td>383.00</td>\n",
       "      <td>379.81</td>\n",
       "      <td>2628</td>\n",
       "      <td>9.981384e+10</td>\n",
       "      <td>NaN</td>\n",
       "      <td>NaN</td>\n",
       "      <td>NaN</td>\n",
       "    </tr>\n",
       "    <tr>\n",
       "      <th>2000-01-06</th>\n",
       "      <td>ASIANPAINT</td>\n",
       "      <td>EQ</td>\n",
       "      <td>383.00</td>\n",
       "      <td>384.9</td>\n",
       "      <td>384.9</td>\n",
       "      <td>374.5</td>\n",
       "      <td>375.1</td>\n",
       "      <td>377.50</td>\n",
       "      <td>379.88</td>\n",
       "      <td>3354</td>\n",
       "      <td>1.274114e+11</td>\n",
       "      <td>NaN</td>\n",
       "      <td>NaN</td>\n",
       "      <td>NaN</td>\n",
       "    </tr>\n",
       "    <tr>\n",
       "      <th>2000-01-07</th>\n",
       "      <td>ASIANPAINT</td>\n",
       "      <td>EQ</td>\n",
       "      <td>377.50</td>\n",
       "      <td>376.0</td>\n",
       "      <td>390.0</td>\n",
       "      <td>370.0</td>\n",
       "      <td>389.0</td>\n",
       "      <td>385.70</td>\n",
       "      <td>383.38</td>\n",
       "      <td>9589</td>\n",
       "      <td>3.676275e+11</td>\n",
       "      <td>NaN</td>\n",
       "      <td>NaN</td>\n",
       "      <td>NaN</td>\n",
       "    </tr>\n",
       "  </tbody>\n",
       "</table>\n",
       "</div>"
      ],
      "text/plain": [
       "                Symbol Series  Prev Close   Open   High    Low   Last   Close  \\\n",
       "Date                                                                            \n",
       "2000-01-03  ASIANPAINT     EQ      361.20  370.0  390.0  370.0  385.0  381.65   \n",
       "2000-01-04  ASIANPAINT     EQ      381.65  380.0  392.0  375.0  390.0  385.55   \n",
       "2000-01-05  ASIANPAINT     EQ      385.55  371.5  390.0  371.5  383.0  383.00   \n",
       "2000-01-06  ASIANPAINT     EQ      383.00  384.9  384.9  374.5  375.1  377.50   \n",
       "2000-01-07  ASIANPAINT     EQ      377.50  376.0  390.0  370.0  389.0  385.70   \n",
       "\n",
       "              VWAP  Volume      Turnover  Trades  Deliverable Volume  \\\n",
       "Date                                                                   \n",
       "2000-01-03  380.54    3318  1.262617e+11     NaN                 NaN   \n",
       "2000-01-04  383.50    4818  1.847699e+11     NaN                 NaN   \n",
       "2000-01-05  379.81    2628  9.981384e+10     NaN                 NaN   \n",
       "2000-01-06  379.88    3354  1.274114e+11     NaN                 NaN   \n",
       "2000-01-07  383.38    9589  3.676275e+11     NaN                 NaN   \n",
       "\n",
       "            %Deliverble  \n",
       "Date                     \n",
       "2000-01-03          NaN  \n",
       "2000-01-04          NaN  \n",
       "2000-01-05          NaN  \n",
       "2000-01-06          NaN  \n",
       "2000-01-07          NaN  "
      ]
     },
     "execution_count": 2,
     "metadata": {},
     "output_type": "execute_result"
    }
   ],
   "source": [
    "dataset = pd.read_csv('ASIANPAINT.csv', index_col='Date', parse_dates=['Date'])\n",
    "dataset.head()"
   ]
  },
  {
   "cell_type": "code",
   "execution_count": 3,
   "metadata": {},
   "outputs": [
    {
     "data": {
      "text/html": [
       "<div>\n",
       "<style scoped>\n",
       "    .dataframe tbody tr th:only-of-type {\n",
       "        vertical-align: middle;\n",
       "    }\n",
       "\n",
       "    .dataframe tbody tr th {\n",
       "        vertical-align: top;\n",
       "    }\n",
       "\n",
       "    .dataframe thead th {\n",
       "        text-align: right;\n",
       "    }\n",
       "</style>\n",
       "<table border=\"1\" class=\"dataframe\">\n",
       "  <thead>\n",
       "    <tr style=\"text-align: right;\">\n",
       "      <th></th>\n",
       "      <th>Prev Close</th>\n",
       "      <th>Open</th>\n",
       "      <th>High</th>\n",
       "      <th>Low</th>\n",
       "      <th>Last</th>\n",
       "      <th>Close</th>\n",
       "      <th>VWAP</th>\n",
       "      <th>Volume</th>\n",
       "      <th>Turnover</th>\n",
       "      <th>Trades</th>\n",
       "      <th>Deliverable Volume</th>\n",
       "      <th>%Deliverble</th>\n",
       "    </tr>\n",
       "  </thead>\n",
       "  <tbody>\n",
       "    <tr>\n",
       "      <th>count</th>\n",
       "      <td>4977.000000</td>\n",
       "      <td>4977.000000</td>\n",
       "      <td>4977.000000</td>\n",
       "      <td>4977.000000</td>\n",
       "      <td>4977.000000</td>\n",
       "      <td>4977.000000</td>\n",
       "      <td>4977.000000</td>\n",
       "      <td>4.977000e+03</td>\n",
       "      <td>4.977000e+03</td>\n",
       "      <td>2126.000000</td>\n",
       "      <td>4.468000e+03</td>\n",
       "      <td>4468.000000</td>\n",
       "    </tr>\n",
       "    <tr>\n",
       "      <th>mean</th>\n",
       "      <td>1194.812497</td>\n",
       "      <td>1195.285282</td>\n",
       "      <td>1211.490396</td>\n",
       "      <td>1179.330038</td>\n",
       "      <td>1194.996474</td>\n",
       "      <td>1195.125537</td>\n",
       "      <td>1195.495069</td>\n",
       "      <td>3.868855e+05</td>\n",
       "      <td>4.219766e+13</td>\n",
       "      <td>32440.173565</td>\n",
       "      <td>2.343225e+05</td>\n",
       "      <td>0.646205</td>\n",
       "    </tr>\n",
       "    <tr>\n",
       "      <th>std</th>\n",
       "      <td>1085.533602</td>\n",
       "      <td>1084.934153</td>\n",
       "      <td>1098.298681</td>\n",
       "      <td>1073.615274</td>\n",
       "      <td>1085.472645</td>\n",
       "      <td>1085.546077</td>\n",
       "      <td>1086.154783</td>\n",
       "      <td>6.488019e+05</td>\n",
       "      <td>7.209965e+13</td>\n",
       "      <td>24965.482747</td>\n",
       "      <td>3.602363e+05</td>\n",
       "      <td>0.175389</td>\n",
       "    </tr>\n",
       "    <tr>\n",
       "      <th>min</th>\n",
       "      <td>210.750000</td>\n",
       "      <td>210.000000</td>\n",
       "      <td>215.750000</td>\n",
       "      <td>204.000000</td>\n",
       "      <td>210.600000</td>\n",
       "      <td>210.750000</td>\n",
       "      <td>212.220000</td>\n",
       "      <td>2.500000e+01</td>\n",
       "      <td>1.278415e+09</td>\n",
       "      <td>70.000000</td>\n",
       "      <td>2.500000e+01</td>\n",
       "      <td>0.134700</td>\n",
       "    </tr>\n",
       "    <tr>\n",
       "      <th>25%</th>\n",
       "      <td>400.150000</td>\n",
       "      <td>400.000000</td>\n",
       "      <td>405.000000</td>\n",
       "      <td>393.500000</td>\n",
       "      <td>400.050000</td>\n",
       "      <td>400.300000</td>\n",
       "      <td>399.970000</td>\n",
       "      <td>1.256400e+04</td>\n",
       "      <td>6.799310e+11</td>\n",
       "      <td>13839.000000</td>\n",
       "      <td>1.148300e+04</td>\n",
       "      <td>0.514275</td>\n",
       "    </tr>\n",
       "    <tr>\n",
       "      <th>50%</th>\n",
       "      <td>856.250000</td>\n",
       "      <td>860.000000</td>\n",
       "      <td>867.800000</td>\n",
       "      <td>846.050000</td>\n",
       "      <td>856.400000</td>\n",
       "      <td>856.600000</td>\n",
       "      <td>856.360000</td>\n",
       "      <td>4.838800e+04</td>\n",
       "      <td>6.790388e+12</td>\n",
       "      <td>28222.500000</td>\n",
       "      <td>4.185350e+04</td>\n",
       "      <td>0.634450</td>\n",
       "    </tr>\n",
       "    <tr>\n",
       "      <th>75%</th>\n",
       "      <td>1365.650000</td>\n",
       "      <td>1367.950000</td>\n",
       "      <td>1386.000000</td>\n",
       "      <td>1351.450000</td>\n",
       "      <td>1365.000000</td>\n",
       "      <td>1366.000000</td>\n",
       "      <td>1367.260000</td>\n",
       "      <td>6.665330e+05</td>\n",
       "      <td>6.076701e+13</td>\n",
       "      <td>44032.750000</td>\n",
       "      <td>3.698942e+05</td>\n",
       "      <td>0.778025</td>\n",
       "    </tr>\n",
       "    <tr>\n",
       "      <th>max</th>\n",
       "      <td>5213.100000</td>\n",
       "      <td>5221.100000</td>\n",
       "      <td>5247.750000</td>\n",
       "      <td>5150.050000</td>\n",
       "      <td>5221.100000</td>\n",
       "      <td>5213.100000</td>\n",
       "      <td>5175.790000</td>\n",
       "      <td>8.272850e+06</td>\n",
       "      <td>1.075676e+15</td>\n",
       "      <td>283034.000000</td>\n",
       "      <td>4.111610e+06</td>\n",
       "      <td>1.000000</td>\n",
       "    </tr>\n",
       "  </tbody>\n",
       "</table>\n",
       "</div>"
      ],
      "text/plain": [
       "        Prev Close         Open         High          Low         Last  \\\n",
       "count  4977.000000  4977.000000  4977.000000  4977.000000  4977.000000   \n",
       "mean   1194.812497  1195.285282  1211.490396  1179.330038  1194.996474   \n",
       "std    1085.533602  1084.934153  1098.298681  1073.615274  1085.472645   \n",
       "min     210.750000   210.000000   215.750000   204.000000   210.600000   \n",
       "25%     400.150000   400.000000   405.000000   393.500000   400.050000   \n",
       "50%     856.250000   860.000000   867.800000   846.050000   856.400000   \n",
       "75%    1365.650000  1367.950000  1386.000000  1351.450000  1365.000000   \n",
       "max    5213.100000  5221.100000  5247.750000  5150.050000  5221.100000   \n",
       "\n",
       "             Close         VWAP        Volume      Turnover         Trades  \\\n",
       "count  4977.000000  4977.000000  4.977000e+03  4.977000e+03    2126.000000   \n",
       "mean   1195.125537  1195.495069  3.868855e+05  4.219766e+13   32440.173565   \n",
       "std    1085.546077  1086.154783  6.488019e+05  7.209965e+13   24965.482747   \n",
       "min     210.750000   212.220000  2.500000e+01  1.278415e+09      70.000000   \n",
       "25%     400.300000   399.970000  1.256400e+04  6.799310e+11   13839.000000   \n",
       "50%     856.600000   856.360000  4.838800e+04  6.790388e+12   28222.500000   \n",
       "75%    1366.000000  1367.260000  6.665330e+05  6.076701e+13   44032.750000   \n",
       "max    5213.100000  5175.790000  8.272850e+06  1.075676e+15  283034.000000   \n",
       "\n",
       "       Deliverable Volume  %Deliverble  \n",
       "count        4.468000e+03  4468.000000  \n",
       "mean         2.343225e+05     0.646205  \n",
       "std          3.602363e+05     0.175389  \n",
       "min          2.500000e+01     0.134700  \n",
       "25%          1.148300e+04     0.514275  \n",
       "50%          4.185350e+04     0.634450  \n",
       "75%          3.698942e+05     0.778025  \n",
       "max          4.111610e+06     1.000000  "
      ]
     },
     "execution_count": 3,
     "metadata": {},
     "output_type": "execute_result"
    }
   ],
   "source": [
    "dataset.describe()"
   ]
  },
  {
   "cell_type": "code",
   "execution_count": 4,
   "metadata": {},
   "outputs": [
    {
     "data": {
      "text/plain": [
       "Symbol                   0\n",
       "Series                   0\n",
       "Prev Close               0\n",
       "Open                     0\n",
       "High                     0\n",
       "Low                      0\n",
       "Last                     0\n",
       "Close                    0\n",
       "VWAP                     0\n",
       "Volume                   0\n",
       "Turnover                 0\n",
       "Trades                2851\n",
       "Deliverable Volume     509\n",
       "%Deliverble            509\n",
       "dtype: int64"
      ]
     },
     "execution_count": 4,
     "metadata": {},
     "output_type": "execute_result"
    }
   ],
   "source": [
    "dataset.isnull().sum()"
   ]
  },
  {
   "cell_type": "markdown",
   "metadata": {},
   "source": [
    "### Mengambil kolom tertentu saja pada dataset"
   ]
  },
  {
   "cell_type": "code",
   "execution_count": 5,
   "metadata": {},
   "outputs": [],
   "source": [
    "df = dataset[[ 'Prev Close', 'High', 'Low', 'Last', 'Close', 'VWAP', 'Volume']].copy()"
   ]
  },
  {
   "cell_type": "code",
   "execution_count": 6,
   "metadata": {},
   "outputs": [
    {
     "data": {
      "text/html": [
       "<div>\n",
       "<style scoped>\n",
       "    .dataframe tbody tr th:only-of-type {\n",
       "        vertical-align: middle;\n",
       "    }\n",
       "\n",
       "    .dataframe tbody tr th {\n",
       "        vertical-align: top;\n",
       "    }\n",
       "\n",
       "    .dataframe thead th {\n",
       "        text-align: right;\n",
       "    }\n",
       "</style>\n",
       "<table border=\"1\" class=\"dataframe\">\n",
       "  <thead>\n",
       "    <tr style=\"text-align: right;\">\n",
       "      <th></th>\n",
       "      <th>Prev Close</th>\n",
       "      <th>High</th>\n",
       "      <th>Low</th>\n",
       "      <th>Last</th>\n",
       "      <th>Close</th>\n",
       "      <th>VWAP</th>\n",
       "      <th>Volume</th>\n",
       "    </tr>\n",
       "    <tr>\n",
       "      <th>Date</th>\n",
       "      <th></th>\n",
       "      <th></th>\n",
       "      <th></th>\n",
       "      <th></th>\n",
       "      <th></th>\n",
       "      <th></th>\n",
       "      <th></th>\n",
       "    </tr>\n",
       "  </thead>\n",
       "  <tbody>\n",
       "    <tr>\n",
       "      <th>2000-01-03</th>\n",
       "      <td>361.20</td>\n",
       "      <td>390.0</td>\n",
       "      <td>370.0</td>\n",
       "      <td>385.0</td>\n",
       "      <td>381.65</td>\n",
       "      <td>380.54</td>\n",
       "      <td>3318</td>\n",
       "    </tr>\n",
       "    <tr>\n",
       "      <th>2000-01-04</th>\n",
       "      <td>381.65</td>\n",
       "      <td>392.0</td>\n",
       "      <td>375.0</td>\n",
       "      <td>390.0</td>\n",
       "      <td>385.55</td>\n",
       "      <td>383.50</td>\n",
       "      <td>4818</td>\n",
       "    </tr>\n",
       "    <tr>\n",
       "      <th>2000-01-05</th>\n",
       "      <td>385.55</td>\n",
       "      <td>390.0</td>\n",
       "      <td>371.5</td>\n",
       "      <td>383.0</td>\n",
       "      <td>383.00</td>\n",
       "      <td>379.81</td>\n",
       "      <td>2628</td>\n",
       "    </tr>\n",
       "    <tr>\n",
       "      <th>2000-01-06</th>\n",
       "      <td>383.00</td>\n",
       "      <td>384.9</td>\n",
       "      <td>374.5</td>\n",
       "      <td>375.1</td>\n",
       "      <td>377.50</td>\n",
       "      <td>379.88</td>\n",
       "      <td>3354</td>\n",
       "    </tr>\n",
       "    <tr>\n",
       "      <th>2000-01-07</th>\n",
       "      <td>377.50</td>\n",
       "      <td>390.0</td>\n",
       "      <td>370.0</td>\n",
       "      <td>389.0</td>\n",
       "      <td>385.70</td>\n",
       "      <td>383.38</td>\n",
       "      <td>9589</td>\n",
       "    </tr>\n",
       "  </tbody>\n",
       "</table>\n",
       "</div>"
      ],
      "text/plain": [
       "            Prev Close   High    Low   Last   Close    VWAP  Volume\n",
       "Date                                                               \n",
       "2000-01-03      361.20  390.0  370.0  385.0  381.65  380.54    3318\n",
       "2000-01-04      381.65  392.0  375.0  390.0  385.55  383.50    4818\n",
       "2000-01-05      385.55  390.0  371.5  383.0  383.00  379.81    2628\n",
       "2000-01-06      383.00  384.9  374.5  375.1  377.50  379.88    3354\n",
       "2000-01-07      377.50  390.0  370.0  389.0  385.70  383.38    9589"
      ]
     },
     "execution_count": 6,
     "metadata": {},
     "output_type": "execute_result"
    }
   ],
   "source": [
    "df.head()"
   ]
  },
  {
   "cell_type": "markdown",
   "metadata": {},
   "source": [
    "# Data Preprocessing"
   ]
  },
  {
   "cell_type": "markdown",
   "metadata": {},
   "source": [
    "### Reshape Data menjadi Array 2D"
   ]
  },
  {
   "cell_type": "code",
   "execution_count": 7,
   "metadata": {},
   "outputs": [
    {
     "data": {
      "text/plain": [
       "(4977, 7)"
      ]
     },
     "execution_count": 7,
     "metadata": {},
     "output_type": "execute_result"
    }
   ],
   "source": [
    "df.shape"
   ]
  },
  {
   "cell_type": "code",
   "execution_count": 8,
   "metadata": {},
   "outputs": [
    {
     "name": "stdout",
     "output_type": "stream",
     "text": [
      "(4977, 1)\n",
      "[[ 380.54]\n",
      " [ 383.5 ]\n",
      " [ 379.81]\n",
      " ...\n",
      " [1813.92]\n",
      " [1805.35]\n",
      " [1790.83]]\n"
     ]
    }
   ],
   "source": [
    "# Mengambil kolom VWAP dan mengubahnya menjadi array 2D\n",
    "df_2d = df['VWAP'].values.reshape(4977,1)\n",
    "print(df_2d.shape)\n",
    "print(df_2d)"
   ]
  },
  {
   "cell_type": "markdown",
   "metadata": {},
   "source": [
    "### Scaling Data"
   ]
  },
  {
   "cell_type": "code",
   "execution_count": 9,
   "metadata": {},
   "outputs": [],
   "source": [
    "scaler = MinMaxScaler(feature_range=(0, 1)) #Also try QuantileTransformer\n",
    "df_2d = scaler.fit_transform(df_2d)"
   ]
  },
  {
   "cell_type": "markdown",
   "metadata": {},
   "source": [
    "### Splitting Train dan Test Set"
   ]
  },
  {
   "cell_type": "code",
   "execution_count": 10,
   "metadata": {},
   "outputs": [
    {
     "name": "stdout",
     "output_type": "stream",
     "text": [
      "(3483, 1)\n",
      "(1494, 1)\n"
     ]
    }
   ],
   "source": [
    "train_size = int(len(df_2d) * 0.7)\n",
    "test_size = len(df_2d) - train_size\n",
    "train, test = df_2d[0:train_size,:], df_2d[train_size:len(df_2d),:]\n",
    "print(train.shape)\n",
    "print(test.shape)"
   ]
  },
  {
   "cell_type": "markdown",
   "metadata": {},
   "source": [
    "### Membuat Sequence"
   ]
  },
  {
   "cell_type": "code",
   "execution_count": 11,
   "metadata": {},
   "outputs": [],
   "source": [
    "def to_sequences(dataset, seq_size=1):\n",
    "    x = []\n",
    "    y = []\n",
    "\n",
    "    for i in range(len(dataset)-seq_size-1):\n",
    "        # print(i)\n",
    "        window = dataset[i:(i+seq_size), 0]\n",
    "        x.append(window)\n",
    "        y.append(dataset[i+seq_size, 0])\n",
    "        \n",
    "    return np.array(x),np.array(y)"
   ]
  },
  {
   "cell_type": "code",
   "execution_count": 12,
   "metadata": {},
   "outputs": [
    {
     "data": {
      "text/plain": [
       "(3483, 1)"
      ]
     },
     "execution_count": 12,
     "metadata": {},
     "output_type": "execute_result"
    }
   ],
   "source": [
    "train.shape"
   ]
  },
  {
   "cell_type": "code",
   "execution_count": 13,
   "metadata": {},
   "outputs": [
    {
     "data": {
      "text/plain": [
       "(1494, 1)"
      ]
     },
     "execution_count": 13,
     "metadata": {},
     "output_type": "execute_result"
    }
   ],
   "source": [
    "test.shape"
   ]
  },
  {
   "cell_type": "code",
   "execution_count": 14,
   "metadata": {},
   "outputs": [
    {
     "name": "stdout",
     "output_type": "stream",
     "text": [
      "Shape of training set: (3382, 100)\n",
      "Shape of test set: (1393, 100)\n"
     ]
    }
   ],
   "source": [
    "seq_size = 100\n",
    "\n",
    "X_train, y_train = to_sequences(train, seq_size)\n",
    "X_test, y_test = to_sequences(test, seq_size)\n",
    "\n",
    "print(\"Shape of training set: {}\".format(X_train.shape))\n",
    "print(\"Shape of test set: {}\".format(X_test.shape))"
   ]
  },
  {
   "cell_type": "markdown",
   "metadata": {},
   "source": [
    "### Mengubah Data Train dan Test menjadi 3D"
   ]
  },
  {
   "cell_type": "code",
   "execution_count": 15,
   "metadata": {},
   "outputs": [
    {
     "name": "stdout",
     "output_type": "stream",
     "text": [
      "[[[0.03391108]\n",
      "  [0.03450742]\n",
      "  [0.033764  ]\n",
      "  ...\n",
      "  [0.04341432]\n",
      "  [0.04210478]\n",
      "  [0.0435352 ]]\n",
      "\n",
      " [[0.03450742]\n",
      "  [0.033764  ]\n",
      "  [0.03377811]\n",
      "  ...\n",
      "  [0.04210478]\n",
      "  [0.0435352 ]\n",
      "  [0.04257218]]\n",
      "\n",
      " [[0.033764  ]\n",
      "  [0.03377811]\n",
      "  [0.03448324]\n",
      "  ...\n",
      "  [0.0435352 ]\n",
      "  [0.04257218]\n",
      "  [0.04387366]]\n",
      "\n",
      " ...\n",
      "\n",
      " [[0.8971728 ]\n",
      "  [0.91036492]\n",
      "  [0.92642392]\n",
      "  ...\n",
      "  [0.05926783]\n",
      "  [0.05888504]\n",
      "  [0.0590865 ]]\n",
      "\n",
      " [[0.91036492]\n",
      "  [0.92642392]\n",
      "  [0.9358909 ]\n",
      "  ...\n",
      "  [0.05888504]\n",
      "  [0.0590865 ]\n",
      "  [0.05952973]]\n",
      "\n",
      " [[0.92642392]\n",
      "  [0.9358909 ]\n",
      "  [0.92801955]\n",
      "  ...\n",
      "  [0.0590865 ]\n",
      "  [0.05952973]\n",
      "  [0.05879438]]]\n",
      "(3382, 100, 1)\n"
     ]
    }
   ],
   "source": [
    "#Reshape input to be [samples, time steps, features]\n",
    "X_train = np.reshape(X_train, (X_train.shape[0], X_train.shape[1], 1))\n",
    "X_test = np.reshape(X_test, (X_test.shape[0], X_test.shape[1], 1))\n",
    "print(X_train)\n",
    "print(X_train.shape)"
   ]
  },
  {
   "cell_type": "markdown",
   "metadata": {},
   "source": [
    "# Import Model yang sudah ditraining"
   ]
  },
  {
   "cell_type": "code",
   "execution_count": 16,
   "metadata": {},
   "outputs": [],
   "source": [
    "from keras.models import load_model"
   ]
  },
  {
   "cell_type": "code",
   "execution_count": 17,
   "metadata": {},
   "outputs": [],
   "source": [
    "model = load_model('lstm_model_3_100seq.h5')"
   ]
  },
  {
   "cell_type": "markdown",
   "metadata": {},
   "source": [
    "### Memprediksi Model Train dan Test"
   ]
  },
  {
   "cell_type": "code",
   "execution_count": 18,
   "metadata": {},
   "outputs": [],
   "source": [
    "def plot_predictions(title, test,predicted):\n",
    "    plt.figure(figsize = (20,10))\n",
    "    plt.plot(test, color='red',label='Actual')\n",
    "    plt.plot(predicted, color='blue',label='Predicted')\n",
    "    plt.title(title)\n",
    "    plt.xlabel('Time')\n",
    "    plt.ylabel('Stock Price')\n",
    "    plt.legend()\n",
    "    plt.show()\n",
    "\n",
    "def return_rmse(test,predicted):\n",
    "    rmse = math.sqrt(mean_squared_error(test, predicted))\n",
    "    print(\"The root mean squared error is {}.\".format(rmse))"
   ]
  },
  {
   "cell_type": "code",
   "execution_count": 19,
   "metadata": {},
   "outputs": [],
   "source": [
    "trainPredict = model.predict(X_train)\n",
    "testPredict = model.predict(X_test)"
   ]
  },
  {
   "cell_type": "code",
   "execution_count": 20,
   "metadata": {},
   "outputs": [],
   "source": [
    "trainPredict = scaler.inverse_transform(trainPredict)\n",
    "trainY = scaler.inverse_transform([y_train])\n",
    "testPredict = scaler.inverse_transform(testPredict)\n",
    "testY = scaler.inverse_transform([y_test])"
   ]
  },
  {
   "cell_type": "code",
   "execution_count": 21,
   "metadata": {},
   "outputs": [
    {
     "name": "stdout",
     "output_type": "stream",
     "text": [
      "Score: 25.87 RMSE\n"
     ]
    }
   ],
   "source": [
    "# calculate root mean squared error\n",
    "# trainScore = math.sqrt(mean_squared_error(trainY[0], trainPredict[:,0]))\n",
    "# print('Train Score: %.2f RMSE' % (trainScore))\n",
    "\n",
    "testScore = math.sqrt(mean_squared_error(testY[0], testPredict[:,0]))\n",
    "print('Score: %.2f RMSE' % (testScore))"
   ]
  },
  {
   "cell_type": "code",
   "execution_count": 22,
   "metadata": {},
   "outputs": [
    {
     "data": {
      "image/png": "[encoded data removed]",
      "text/plain": [
       "<Figure size 1440x720 with 1 Axes>"
      ]
     },
     "metadata": {},
     "output_type": "display_data"
    }
   ],
   "source": [
    "plot_predictions('ASIANPAINT Stock Price Prediction', testY[0], testPredict[:,0])"
   ]
  },
  {
   "cell_type": "markdown",
   "metadata": {},
   "source": [
    "# Prediksi 5 Tahun Kedepan"
   ]
  },
  {
   "cell_type": "code",
   "execution_count": 23,
   "metadata": {},
   "outputs": [
    {
     "data": {
      "text/plain": [
       "1494"
      ]
     },
     "execution_count": 23,
     "metadata": {},
     "output_type": "execute_result"
    }
   ],
   "source": [
    "len(test)"
   ]
  },
  {
   "cell_type": "code",
   "execution_count": 24,
   "metadata": {},
   "outputs": [
    {
     "data": {
      "text/plain": [
       "(1494, 1)"
      ]
     },
     "execution_count": 24,
     "metadata": {},
     "output_type": "execute_result"
    }
   ],
   "source": [
    "test.shape"
   ]
  },
  {
   "cell_type": "markdown",
   "metadata": {},
   "source": [
    "### Membuat Sequence 100 hari terakhir"
   ]
  },
  {
   "cell_type": "code",
   "execution_count": 25,
   "metadata": {},
   "outputs": [],
   "source": [
    "last_day = seq_size"
   ]
  },
  {
   "cell_type": "code",
   "execution_count": 26,
   "metadata": {},
   "outputs": [],
   "source": [
    "#Getting the last 100 days records\n",
    "fut_inp = test[len(test)-last_day:]\n",
    "fut_inp = fut_inp.reshape(1,-1)\n"
   ]
  },
  {
   "cell_type": "code",
   "execution_count": 27,
   "metadata": {},
   "outputs": [],
   "source": [
    "tmp_inp = list(fut_inp)"
   ]
  },
  {
   "cell_type": "code",
   "execution_count": 28,
   "metadata": {},
   "outputs": [
    {
     "data": {
      "text/plain": [
       "(1, 100)"
      ]
     },
     "execution_count": 28,
     "metadata": {},
     "output_type": "execute_result"
    }
   ],
   "source": [
    "fut_inp.shape"
   ]
  },
  {
   "cell_type": "code",
   "execution_count": 29,
   "metadata": {},
   "outputs": [],
   "source": [
    "# Creating list of the last 100 data\n",
    "tmp_inp = tmp_inp[0].tolist()"
   ]
  },
  {
   "cell_type": "code",
   "execution_count": 30,
   "metadata": {},
   "outputs": [
    {
     "name": "stdout",
     "output_type": "stream",
     "text": [
      "5 Tahun kedepan : 1800 hari\n"
     ]
    }
   ],
   "source": [
    "# Hari berikutnya yang akan diprediksi\n",
    "# 5 tahun\n",
    "\n",
    "next_b = 5 * 360\n",
    "\n",
    "print(\"5 Tahun kedepan : {} hari\".format(next_b))"
   ]
  },
  {
   "cell_type": "code",
   "execution_count": 31,
   "metadata": {},
   "outputs": [],
   "source": [
    "next_day = next_b"
   ]
  },
  {
   "cell_type": "code",
   "execution_count": 32,
   "metadata": {},
   "outputs": [],
   "source": [
    "#Predicting next 5 Years price suing the current data\n",
    "#It will predict in sliding window manner (algorithm) with stride 1\n",
    "lst_output=[]\n",
    "n_steps= last_day\n",
    "i=0\n",
    "while(i<next_day):\n",
    "    \n",
    "    if(len(tmp_inp)>last_day):\n",
    "        fut_inp = np.array(tmp_inp[1:])\n",
    "        fut_inp=fut_inp.reshape(1,-1)\n",
    "        fut_inp = fut_inp.reshape((1, n_steps, 1))\n",
    "        yhat = model.predict(fut_inp, verbose=0)\n",
    "        tmp_inp.extend(yhat[0].tolist())\n",
    "        tmp_inp = tmp_inp[1:]\n",
    "        lst_output.extend(yhat.tolist())\n",
    "        i=i+1\n",
    "    else:\n",
    "        fut_inp = fut_inp.reshape((1, n_steps,1))\n",
    "        yhat = model.predict(fut_inp, verbose=0)\n",
    "        tmp_inp.extend(yhat[0].tolist())\n",
    "        lst_output.extend(yhat.tolist())\n",
    "        i=i+1\n",
    "    \n",
    "\n",
    "# print(lst_output)"
   ]
  },
  {
   "cell_type": "code",
   "execution_count": 33,
   "metadata": {},
   "outputs": [
    {
     "data": {
      "text/plain": [
       "4977"
      ]
     },
     "execution_count": 33,
     "metadata": {},
     "output_type": "execute_result"
    }
   ],
   "source": [
    "len(df_2d)"
   ]
  },
  {
   "cell_type": "code",
   "execution_count": 34,
   "metadata": {},
   "outputs": [
    {
     "data": {
      "text/plain": [
       "array([[0.03391108],\n",
       "       [0.03450742],\n",
       "       [0.033764  ],\n",
       "       ...,\n",
       "       [0.32269113],\n",
       "       [0.32096455],\n",
       "       [0.31803923]])"
      ]
     },
     "execution_count": 34,
     "metadata": {},
     "output_type": "execute_result"
    }
   ],
   "source": [
    "df_2d"
   ]
  },
  {
   "cell_type": "code",
   "execution_count": 35,
   "metadata": {},
   "outputs": [],
   "source": [
    "#Creating a dummy plane to plot graph one after another\n",
    "plot_new=np.arange(1,last_day+1)\n",
    "plot_pred=np.arange(last_day+1,last_day+1+next_day)"
   ]
  },
  {
   "cell_type": "code",
   "execution_count": 36,
   "metadata": {},
   "outputs": [
    {
     "data": {
      "text/plain": [
       "[<matplotlib.lines.Line2D at 0x1841a3b12e0>]"
      ]
     },
     "execution_count": 36,
     "metadata": {},
     "output_type": "execute_result"
    },
    {
     "data": {
      "image/png": "[encoded data removed]",
      "text/plain": [
       "<Figure size 432x288 with 1 Axes>"
      ]
     },
     "metadata": {},
     "output_type": "display_data"
    }
   ],
   "source": [
    "plt.plot(plot_new, scaler.inverse_transform(df_2d[len(df_2d)-last_day:]))\n",
    "plt.plot(plot_pred, scaler.inverse_transform(lst_output))"
   ]
  },
  {
   "cell_type": "code",
   "execution_count": 37,
   "metadata": {},
   "outputs": [
    {
     "data": {
      "text/plain": [
       "(1800, 1)"
      ]
     },
     "execution_count": 37,
     "metadata": {},
     "output_type": "execute_result"
    }
   ],
   "source": [
    "future_predict = scaler.inverse_transform(lst_output)\n",
    "future_predict.shape"
   ]
  },
  {
   "cell_type": "code",
   "execution_count": 38,
   "metadata": {},
   "outputs": [
    {
     "name": "stdout",
     "output_type": "stream",
     "text": [
      "Harga saham pada 5 tahun ke depan (1800 hari): [2094.32207497]\n"
     ]
    }
   ],
   "source": [
    "print(\"Harga saham pada 5 tahun ke depan ({} hari): {}\".format(next_b, future_predict[next_b-1]))"
   ]
  },
  {
   "cell_type": "code",
   "execution_count": 39,
   "metadata": {},
   "outputs": [],
   "source": [
    "plot_pred1=np.arange(last_day+1,last_day+1+60)"
   ]
  },
  {
   "cell_type": "code",
   "execution_count": 40,
   "metadata": {},
   "outputs": [
    {
     "data": {
      "text/plain": [
       "[<matplotlib.lines.Line2D at 0x18416f178b0>]"
      ]
     },
     "execution_count": 40,
     "metadata": {},
     "output_type": "execute_result"
    },
    {
     "data": {
      "image/png": "[encoded data removed]",
      "text/plain": [
       "<Figure size 432x288 with 1 Axes>"
      ]
     },
     "metadata": {},
     "output_type": "display_data"
    }
   ],
   "source": [
    "plt.plot(plot_new, scaler.inverse_transform(df_2d[len(df_2d)-last_day:]))\n",
    "plt.plot(plot_pred1, scaler.inverse_transform(lst_output[:60]))"
   ]
  },
  {
   "cell_type": "code",
   "execution_count": 41,
   "metadata": {},
   "outputs": [
    {
     "name": "stdout",
     "output_type": "stream",
     "text": [
      "Harga saham pada 30 hari ke depan : [1811.88313465]\n",
      "Harga saham pada 60 hari ke depan : [1818.12605197]\n"
     ]
    }
   ],
   "source": [
    "print(\"Harga saham pada 30 hari ke depan : {}\".format(future_predict[30-1]))\n",
    "print(\"Harga saham pada 60 hari ke depan : {}\".format(future_predict[60-1]))"
   ]
  },
  {
   "cell_type": "markdown",
   "metadata": {},
   "source": [
    "# Final Data"
   ]
  },
  {
   "cell_type": "code",
   "execution_count": 42,
   "metadata": {},
   "outputs": [],
   "source": [
    "test_new = test.tolist()"
   ]
  },
  {
   "cell_type": "code",
   "execution_count": 43,
   "metadata": {},
   "outputs": [
    {
     "data": {
      "text/plain": [
       "1494"
      ]
     },
     "execution_count": 43,
     "metadata": {},
     "output_type": "execute_result"
    }
   ],
   "source": [
    "len(test_new)"
   ]
  },
  {
   "cell_type": "code",
   "execution_count": 44,
   "metadata": {},
   "outputs": [],
   "source": [
    "# Join test data dengan predicted future output\n",
    "test_new.extend(lst_output)"
   ]
  },
  {
   "cell_type": "code",
   "execution_count": 45,
   "metadata": {},
   "outputs": [
    {
     "data": {
      "text/plain": [
       "[<matplotlib.lines.Line2D at 0x1841abf5b20>]"
      ]
     },
     "execution_count": 45,
     "metadata": {},
     "output_type": "execute_result"
    },
    {
     "data": {
      "image/png": "[encoded data removed]",
      "text/plain": [
       "<Figure size 432x288 with 1 Axes>"
      ]
     },
     "metadata": {},
     "output_type": "display_data"
    }
   ],
   "source": [
    "plt.plot(test_new[1000:])"
   ]
  },
  {
   "cell_type": "code",
   "execution_count": 46,
   "metadata": {},
   "outputs": [],
   "source": [
    "# Membuat graph final\n",
    "final_graph = scaler.inverse_transform(test_new).tolist()"
   ]
  },
  {
   "cell_type": "code",
   "execution_count": 47,
   "metadata": {},
   "outputs": [
    {
     "data": {
      "text/plain": [
       "3294"
      ]
     },
     "execution_count": 47,
     "metadata": {},
     "output_type": "execute_result"
    }
   ],
   "source": [
    "len(final_graph)"
   ]
  },
  {
   "cell_type": "code",
   "execution_count": 48,
   "metadata": {},
   "outputs": [
    {
     "data": {
      "text/plain": [
       "<matplotlib.legend.Legend at 0x18416cd2580>"
      ]
     },
     "execution_count": 48,
     "metadata": {},
     "output_type": "execute_result"
    },
    {
     "data": {
      "image/png": "[encoded data removed]",
      "text/plain": [
       "<Figure size 432x288 with 1 Axes>"
      ]
     },
     "metadata": {},
     "output_type": "display_data"
    }
   ],
   "source": [
    "#Plotting final results with predicted value after 30 Days\n",
    "plt.plot(final_graph)\n",
    "plt.ylabel(\"Price\")\n",
    "plt.xlabel(\"Time\")\n",
    "plt.title(\"Prediksi VWAP ASIANPAINT\")\n",
    "plt.axhline(y=final_graph[len(final_graph)-1], color = 'green', linestyle = 'dotted', label = 'NEXT 5Y: {0}'.format(future_predict[next_b-1]))\n",
    "plt.legend()"
   ]
  }
 ],
 "metadata": {
  "kernelspec": {
   "display_name": "Python 3.8.8 ('base')",
   "language": "python",
   "name": "python3"
  },
  "language_info": {
   "codemirror_mode": {
    "name": "ipython",
    "version": 3
   },
   "file_extension": ".py",
   "mimetype": "text/x-python",
   "name": "python",
   "nbconvert_exporter": "python",
   "pygments_lexer": "ipython3",
   "version": "3.8.8"
  },
  "orig_nbformat": 4,
  "vscode": {
   "interpreter": {
    "hash": "a2ab3825ac7005fb7b26f112e9c99ae62f464c629e30b0d534c3b931b6cbc3ff"
   }
  }
 },
 "nbformat": 4,
 "nbformat_minor": 2
}
